{
 "cells": [
  {
   "cell_type": "code",
   "execution_count": null,
   "metadata": {},
   "outputs": [],
   "source": [
    "#[DIY Covid-19 Dashboard Kit](https://github.com/fsmeraldi/diy-covid19dash) (C) Fabrizio Smeraldi, 2020 ([f.smeraldi@qmul.ac.uk](mailto:f.smeraldi@qmul.ac.uk) - [web](http://www.eecs.qmul.ac.uk/~fabri/)). All rights reserved."
   ]
  },
  {
   "cell_type": "markdown",
   "metadata": {},
   "source": [
    "# Covid-19 Dashboard"
   ]
  },
  {
   "cell_type": "markdown",
   "metadata": {},
   "source": [
    "Coronavirus disease 2019 (COVID-19) is a contagious disease caused by the coronavirus 2 that causes severe acute respiratory syndrome (SARS-CoV-2). In December of this year, the first known case was discovered in Wuhan, China. Since then, the disease has spread worldwide, resulting in a pandemic."
   ]
  },
  {
   "cell_type": "markdown",
   "metadata": {},
   "source": [
    "One of the most important considerations concerning a novel infectious disease like the new coronavirus is how lethal it is. After months of research, it was discovered that COVID-19 can be fatal to some people. Older adults and people with existing health conditions are more at risk of serious complications, which can be life threatening."
   ]
  },
  {
   "cell_type": "code",
   "execution_count": null,
   "metadata": {},
   "outputs": [],
   "source": [
    "from IPython.display import clear_output\n",
    "import ipywidgets as wdg\n",
    "import pandas as pd\n",
    "import numpy as np\n",
    "import matplotlib.pyplot as plt\n",
    "import json\n",
    "from uk_covid19 import Cov19API"
   ]
  },
  {
   "cell_type": "code",
   "execution_count": null,
   "metadata": {},
   "outputs": [],
   "source": [
    "%matplotlib inline\n",
    "# make figures larger\n",
    "plt.rcParams['figure.dpi'] = 100"
   ]
  },
  {
   "cell_type": "markdown",
   "metadata": {},
   "source": [
    "## Fatalities across England\n"
   ]
  },
  {
   "cell_type": "code",
   "execution_count": null,
   "metadata": {},
   "outputs": [],
   "source": [
    "with open(\"genderdeaths.json\", \"rt\") as INFILE:\n",
    "    jsondata=json.load(INFILE)"
   ]
  },
  {
   "cell_type": "code",
   "execution_count": null,
   "metadata": {},
   "outputs": [],
   "source": [
    "# Load JSON files and store the raw data in some variable. Edit as appropriate\n",
    "jsondata={}"
   ]
  },
  {
   "cell_type": "markdown",
   "metadata": {},
   "source": [
    "Since the beginning of COVID-19 in England, vast amounts of data have been collected to provide a clearer image of the virus. Fatalities across England in both men and women have been measured; the data has shown that men are more likely to die from COVID-19 than women. Below is a graph highlighting the number of deaths across England as a nation in both men and women and the total number of deaths."
   ]
  },
  {
   "cell_type": "code",
   "execution_count": null,
   "metadata": {},
   "outputs": [],
   "source": [
    "def min_age(agerange):\n",
    "    agerange=agerange.replace('+','')\n",
    "    start=agerange.split('_')[0]\n",
    "    return int(start)\n",
    "\n",
    "def wrangle_data(rawdata):\n",
    "    \"\"\" Parameters: rawdata - data from json file or API call. Returns a dataframe.\n",
    "    Edit to include the code that wrangles the data, creates the dataframe and fills it in. \"\"\"\n",
    "    jsondatadic=jsondata['data'][0] \n",
    "    maleDeaths=jsondatadic['maleDeaths']\n",
    "    femaleDeaths=jsondatadic['femaleDeaths']\n",
    "    ageranges=[x['age'] for x in maleDeaths] \n",
    "    ageranges.sort(key=min_age)\n",
    "    genderdeath_df=pd.DataFrame(index=ageranges, columns=['femaleDeaths','malesDeaths', 'totalDeaths'])\n",
    "    # we have no real data to wrangle, so we just generate two random walks.\n",
    "    for entry in femaleDeaths:\n",
    "        ageband=entry['age']\n",
    "        genderdeath_df.loc[ageband, 'femaleDeaths']=entry['value']\n",
    "    for entry in maleDeaths: # each entry is a dictionary\n",
    "        ageband=entry['age'] # our index position\n",
    "        genderdeath_df.loc[ageband, 'maleDeaths']=entry['value']\n",
    "\n",
    "    genderdeath_df['totalDeaths']=genderdeath_df['maleDeaths']+genderdeath_df['femaleDeaths']\n",
    "\n",
    "    return genderdeath_df\n",
    "\n",
    "\n",
    "# putting the wrangling code into a function allows you to call it again after refreshing the data through \n",
    "# the API. You should call the function directly on the JSON data when the dashboard starts, by including \n",
    "# the call in the cell as below:\n",
    "genderdeath_df=wrangle_data(jsondata) # df is the dataframe for plotting"
   ]
  },
  {
   "cell_type": "code",
   "execution_count": null,
   "metadata": {},
   "outputs": [],
   "source": [
    "# Place your API access code in this function. Do not call this function directly; it will be called by \n",
    "# the button callback. \n",
    "def access_api():\n",
    "    \"\"\" Accesses the PHE API. Returns raw data in the same format as data loaded from the \"canned\" JSON file. \"\"\"\n",
    "    filters = [\n",
    "    'areaType=nation',\n",
    "    'areaName=england'\n",
    "    ]\n",
    "\n",
    "    structure = {\n",
    "    \"date\": \"date\",\n",
    "    \"femaleDeaths\": \"femaleDeaths28Days\",\n",
    "    \"maleDeaths\": \"maleDeaths28Days\"\n",
    "    }\n",
    "\n",
    "    api = Cov19API(filters=filters, structure=structure)\n",
    "\n",
    "    genderdeaths=api.get_json()\n",
    "    return {} # return data read from the API"
   ]
  },
  {
   "cell_type": "code",
   "execution_count": null,
   "metadata": {},
   "outputs": [],
   "source": [
    "def death_graph(graphcolumns):\n",
    "    ncols=len(graphcolumns)\n",
    "    if ncols>0:\n",
    "        genderdeath_df.plot(kind='bar', y=list(graphcolumns))\n",
    "        plt.show()\n",
    "    else:\n",
    "        print(\"Click to select data for graph\")\n",
    "        print(\"(CTRL-Click to select more than one category)\")\n",
    "\n",
    "deathcols=wdg.SelectMultiple(\n",
    "    options=['femaleDeaths', 'maleDeaths', 'totalDeaths'], \n",
    "    value=['femaleDeaths', 'maleDeaths'], \n",
    "    rows=3, \n",
    "    description='Sex',\n",
    "    disabled=False\n",
    ")\n",
    "def refresh_graph():\n",
    "    \"\"\" We change the value of the widget in order to force a redraw of the graph;\n",
    "    this is useful when the data have been updated. This is a bit of a gimmick; it\n",
    "    needs to be customised for one of your widgets. \"\"\"\n",
    "    current=deathcols.value\n",
    "    deathcols.value=[]\n",
    "    deathcols.value=current\n",
    "    \n",
    "\n",
    "\n",
    "output=wdg.interactive_output(death_graph, {'graphcolumns': deathcols})\n",
    "\n",
    "display(deathcols, output)"
   ]
  },
  {
   "cell_type": "code",
   "execution_count": null,
   "metadata": {},
   "outputs": [],
   "source": [
    "# Printout from this function will be lost in Voila unless captured in an\n",
    "# output widget - therefore, we give feedback to the user by changing the \n",
    "# appearance of the button\n",
    "def api_button_callback(button):\n",
    "    \"\"\" Button callback - it must take the button as its parameter (unused in this case).\n",
    "    Accesses API, wrangles data, updates global variable df used for plotting. \"\"\"\n",
    "    # Get fresh data from the API. If you have time, include some error handling\n",
    "    # around this call.\n",
    "    apidata=access_api()\n",
    "    # wrangle the data and overwrite the dataframe for plotting\n",
    "    global genderdeath_df\n",
    "    genderdeath_df=wrangle_data(apidata)\n",
    "    # the graph won't refresh until the user interacts with the widget.\n",
    "    # this function simulates the interaction, see Graph and Analysis below.\n",
    "    # you can omit this step in the first instance\n",
    "    refresh_graph()\n",
    "    # after all is done, you can switch the icon on the button to a \"check\" sign\n",
    "    # and optionally disable the button - it won't be needed again. You can use icons\n",
    "    # \"unlink\" or \"times\" and change the button text to \"Unavailable\" in case the \n",
    "    # api call fails.\n",
    "    apibutton.icon=\"check\"\n",
    "    # apibutton.disabled=True\n",
    "\n",
    "    \n",
    "apibutton=wdg.Button(\n",
    "    description='Refresh data', # you may want to change this...\n",
    "    disabled=False,\n",
    "    button_style='success', # 'success', 'info', 'warning', 'danger' or ''\n",
    "    tooltip=\"Click to update the graph with new data\",\n",
    "    # FontAwesome names without the `fa-` prefix - try \"download\"\n",
    "    icon='sync'\n",
    ")\n",
    "\n",
    "# remember to register your button callback function with the button\n",
    "apibutton.on_click(api_button_callback) # the name of your function inside these brackets\n",
    "\n",
    "display(apibutton)\n",
    "\n",
    "# run all cells before clicking on this button"
   ]
  },
  {
   "cell_type": "markdown",
   "metadata": {},
   "source": [
    "## Roll out of the vaccine"
   ]
  },
  {
   "cell_type": "markdown",
   "metadata": {},
   "source": [
    "Since the outbreak, strenuous efforts have been made to produce and roll out a COVID-19 vaccine. As of the end of 2020, a vaccine was approved for use in England and has since been rolled out. Below is a graph detailing the number of first doses, second doses and third/booster doses that have since been administered to the public."
   ]
  },
  {
   "cell_type": "code",
   "execution_count": null,
   "metadata": {},
   "outputs": [],
   "source": [
    "#with open(\"vaccination.json\", \"rt\") as INFILE:\n",
    "    #data=json.load(INFILE)"
   ]
  },
  {
   "cell_type": "code",
   "execution_count": null,
   "metadata": {},
   "outputs": [],
   "source": [
    "# Load JSON files and store the raw data in some variable. Edit as appropriate\n",
    "#data={}"
   ]
  },
  {
   "cell_type": "code",
   "execution_count": null,
   "metadata": {},
   "outputs": [],
   "source": [
    "\n",
    "#def parse_date(datestring):\n",
    "    #\"\"\" Convert a date string into a pandas datetime object \"\"\"\n",
    "    #return pd.to_datetime(datestring, format=\"%Y-%m-%d\")\n"
   ]
  },
  {
   "cell_type": "code",
   "execution_count": 1,
   "metadata": {},
   "outputs": [],
   "source": [
    "#def wrangle_data(rawdata):\n",
    "  # \"\"\" Parameters: rawdata - data from json file or API call. Returns a dataframe.\n",
    "   #Edit to include the code that wrangles the data, creates the dataframe and fills it in. \"\"\"\n",
    "    #datalist=data['data']\n",
    "   # dates=[dictionary['date'] for dictionary in datalist ]\n",
    "   # dates.sort()\n",
    "   # dates\n",
    "   # startdate=parse_date(dates[0])\n",
    "   # enddate=parse_date(dates[-1])\n",
    "    #index=pd.date_range(startdate, enddate, freq='D')\n",
    "    #vaccinationdf=pd.DataFrame(index=index, columns=['firstDose', 'secondDose', 'thirdDoseAndBooster'])\n",
    "    #for entry in datalist: # each entry is a dictionary with date, cases, hospital and deaths\n",
    "    #    date=parse_date(entry['date'])\n",
    "     #   for column in ['firstDose', 'secondDose', 'thirdDoseAndBooster']:\n",
    "      #      if pd.isna(vaccinationdf.loc[date, column]): \n",
    "       #         value= float(entry[column]) if entry[column]!=None else 0.0\n",
    "        #        vaccinationdf.loc[date, column]=value\n",
    "            \n",
    "   #vaccinationdf.fillna(0.0, inplace=True)\n",
    "   #return vaccinationdf\n",
    "\n",
    "# putting the wrangling code into a function allows you to call it again after refreshing the data through \n",
    "# the API. You should call the function directly on the JSON data when the dashboard starts, by including \n",
    "# the call in the cell as below:\n",
    "#accinationdf=wrangle_data(jsondata2) # df is the dataframe for plotting"
   ]
  },
  {
   "cell_type": "code",
   "execution_count": 2,
   "metadata": {},
   "outputs": [],
   "source": [
    "#def access_api():\n",
    "  #  \"\"\" Accesses the PHE API. Returns raw data in the same format as data loaded from the \"canned\" JSON file. \"\"\"\n",
    "   # filters = [\n",
    "    #'areaType=nation',\n",
    "  #  'areaName=England'\n",
    " #   ]\n",
    "\n",
    "\n",
    "# values here are the names of the PHE metrics\n",
    "  #  structure = {\n",
    "  #  \"date\": \"date\",\n",
    "  #  \"firstDose\": \"cumPeopleVaccinatedFirstDoseByPublishDate\",\n",
    "   # \"secondDose\": \"cumPeopleVaccinatedSecondDoseByPublishDate\",\n",
    "  #  \"thirdDoseAndBooster\": \"cumPeopleVaccinatedThirdInjectionByPublishDate\"\n",
    "  #  }\n",
    "  #  api = Cov19API(filters=filters, structure=structure)\n",
    "\n",
    "   # vaccination=api.get_json()\n",
    "  #  return {} # return data read from the API"
   ]
  },
  {
   "cell_type": "code",
   "execution_count": 3,
   "metadata": {},
   "outputs": [],
   "source": [
    "#def vaccination_graph(ccols, cscale):\n",
    " #   if cscale == 'linear':\n",
    "     #  logscale=False\n",
    "  #  else:\n",
    "    #    logscale=True\n",
    "   # scols=len(ccols)\n",
    "   # if scols>0:\n",
    "     #   vaccinationdf[list(ccols)].plot(logy=logscale)\n",
    "    #    plt.show()\n",
    "   # else:\n",
    "     #   print(\"Click to select data for graph\")\n",
    "     #   print(\"(CTRL-Click to select more than one category)\")\n",
    "\n",
    "#vaccination=wdg.SelectMultiple(\n",
    "  #  options=['firstDose', 'secondDose','thirdDoseAndBooster'],\n",
    "  #  value=['firstDose', 'secondDose','thirdDoseAndBooster'],\n",
    "  #  rows=3,\n",
    "   # description='Stats:',\n",
    "   # disabled=False\n",
    "#)\n",
    "#LogorLinear=wdg.ToggleButtons(\n",
    "  #  options=['log', 'linear'],\n",
    "  #  description='Scale:',\n",
    "   # disabled=False,\n",
    "   # button_style='', # 'success', 'info', 'warning', 'danger' or ''\n",
    "   # tooltips=['Log Scale', 'Linear Scale'],\n",
    "#     icons=['check'] * 3\n",
    "#)\n",
    "#control=wdg.HBox([LogorLinear, vaccination])\n",
    "#ctrls=wdg.VBox([LogorLinear, vaccination])\n",
    "\n",
    "#def refresh_graph_two():\n",
    "  #  \"\"\" We change the value of the widget in order to force a redraw of the graph;\n",
    "  #  this is useful when the data have been updated. This is a bit of a gimmick; it\n",
    "   # needs to be customised for one of your widgets. \"\"\"\n",
    "    #current=vaccination.value\n",
    "    #vaccination.value=[]\n",
    "    #vaccination.value=current\n",
    "    \n",
    "#vaccinationgraph=wdg.interactive_output(vaccination_graph, {'ccols': vaccination, 'cscale': LogorLinear})\n",
    "\n",
    "#form=wdg.HBox([vaccinationgraph, ctrls])\n",
    "#display(form)\n"
   ]
  },
  {
   "cell_type": "code",
   "execution_count": 4,
   "metadata": {},
   "outputs": [],
   "source": [
    "# Printout from this function will be lost in Voila unless captured in an\n",
    "# output widget - therefore, we give feedback to the user by changing the \n",
    "# appearance of the button\n",
    "#def api_button_callback1(button):\n",
    " #   \"\"\" Button callback - it must take the button as its parameter (unused in this case).\n",
    " #   Accesses API, wrangles data, updates global variable df used for plotting. \"\"\"\n",
    "  #  # Get fresh data from the API. If you have time, include some error handling\n",
    "  #  # around this call.\n",
    "   # apidata=access_api()\n",
    "    # wrangle the data and overwrite the dataframe for plotting\n",
    "   # global vaccinationdf\n",
    "  #  vaccinationdf=wrangle_data(apidata)\n",
    "  # refresh_graph_two()\n",
    "    # after all is done, you can switch the icon on the button to a \"check\" sign\n",
    "    # and optionally disable the button - it won't be needed again. You can use icons\n",
    "    # \"unlink\" or \"times\" and change the button text to \"Unavailable\" in case the \n",
    "    # api call fails.\n",
    "  #  apibutton.icon=\"check\"\n",
    "    # apibutton.disabled=True\n",
    "\n",
    "    \n",
    "#apibutton=wdg.Button(\n",
    "  #  description='Refresh data', # you may want to change this...\n",
    "   # disabled=False,\n",
    "    #button_style='success', # 'success', 'info', 'warning', 'danger' or ''\n",
    "    #tooltip=\"Click to update the graph with new data\",\n",
    "    # FontAwesome names without the `fa-` prefix - try \"download\"\n",
    "   # icon='sync'\n",
    "#)\n",
    "\n",
    "# remember to register your button callback function with the button\n",
    "#apibutton.on_click(api_button_callback) # the name of your function inside these brackets\n",
    "\n",
    "#display(apibutton)\n",
    "\n",
    "# run all cells before clicking on this button"
   ]
  },
  {
   "cell_type": "markdown",
   "metadata": {},
   "source": [
    "**Author and Copyright Notice** Remember if you deploy this dashboard as a Binder it will be publicly accessible. Take credit for your work! Also acknowledge the data source: *Based on UK Government [data](https://coronavirus.data.gov.uk/) published by [Public Health England](https://www.gov.uk/government/organisations/public-health-england).*"
   ]
  },
  {
   "cell_type": "code",
   "execution_count": null,
   "metadata": {},
   "outputs": [],
   "source": []
  }
 ],
 "metadata": {
  "kernelspec": {
   "display_name": "Python 3 (ipykernel)",
   "language": "python",
   "name": "python3"
  },
  "language_info": {
   "codemirror_mode": {
    "name": "ipython",
    "version": 3
   },
   "file_extension": ".py",
   "mimetype": "text/x-python",
   "name": "python",
   "nbconvert_exporter": "python",
   "pygments_lexer": "ipython3",
   "version": "3.9.6"
  }
 },
 "nbformat": 4,
 "nbformat_minor": 4
}
